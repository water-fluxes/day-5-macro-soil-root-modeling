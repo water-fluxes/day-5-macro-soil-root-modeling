{
 "cells": [
  {
   "cell_type": "code",
   "execution_count": null,
   "metadata": {
    "collapsed": true,
    "deletable": true,
    "editable": true
   },
   "outputs": [],
   "source": [
    "########################################################################\n",
    "# 1 : LOAD THE LIBRARIES AND SOURCE FILES\n",
    "########################################################################\n",
    "source(\"./Rscript/io_function.R\") # function for this script to works\n",
    "source(\"./Rscript/getSUF.R\") # MARSHAL\n",
    "\n",
    "########################################################################\n",
    "# 1 : LOAD THE ET0 and precipitation data\n",
    "########################################################################\n",
    "data <- data.table::fread(\"./www/ET0badlauchstaedt_2019\", sep = \" \")\n",
    "rain <- data.table::fread(\"./www/rainbadlauchstaedt_2019\", sep = \" \")\n",
    "\n"
   ]
  },
  {
   "cell_type": "code",
   "execution_count": null,
   "metadata": {
    "collapsed": true,
    "deletable": true,
    "editable": true
   },
   "outputs": [],
   "source": [
    "# Load Root system architecture data\n",
    "\n",
    "all_root <- data.table::fread(\"./www/63_rootsystem.txt\")%>%\n",
    "  mutate(length = sqrt((x2 - x1)^2 + (y2 - y1)^2 + (z2 - z1)^2))\n",
    "\n",
    "all_root = suppressWarnings(suppressMessages(root_transform(all_root)))\n",
    "\n",
    "plot_rs(all_root)"
   ]
  },
  {
   "cell_type": "code",
   "execution_count": null,
   "metadata": {
    "collapsed": true,
    "deletable": true,
    "editable": true
   },
   "outputs": [],
   "source": [
    "# Load conductivities\n",
    "conductivities <- read_excel(\"./www/conductivities.xlsx\")\n",
    "\n",
    "# Create an initial soil\n",
    "soil <- soil_initial(soil_type = \"loam\", field_capacity = 0.1)\n",
    "\n",
    "soil_param <- read_excel(\"./www/Soil_type.xlsx\")%>%\n",
    "  filter(type == \"loam\")%>%\n",
    "  mutate(Ksat = Ks, lambda = l)"
   ]
  },
  {
   "cell_type": "code",
   "execution_count": null,
   "metadata": {
    "collapsed": true,
    "deletable": true,
    "editable": true
   },
   "outputs": [],
   "source": [
    "########################################################################\n",
    "# 4 : RUN a root system from day 20 to 60\n",
    "#     i: MARSHAL compute the macro hydraulic properties\n",
    "#     ii: Set the Couvreur model input in Hydrus\n",
    "#     iii: Run Hydrus\n",
    "#     iiii: Loop for each day\n",
    "########################################################################\n",
    "\n",
    "tpots = -15000\n",
    "OUT = SOIL <- NULL\n",
    "dt = 1\n",
    "time_sequence <- seq(20, 60, dt)\n",
    "for(t in time_sequence){\n",
    "  tt = t-min(time_sequence)\n",
    "  print(t)\n",
    "  temp_roots <- all_root%>%\n",
    "    filter(time <= t)\n",
    "  \n",
    "  # -----------------------------\n",
    "  # Run MARSHAL\n",
    "  # -----------------------------\n",
    "  hydraulics <- getSUF(temp_roots, \n",
    "                       conductivities, \n",
    "                       soil, \n",
    "                       hetero =F, \n",
    "                       Psi_collar = tpots, soil_param)\n",
    "  \n",
    "  \n",
    "  temp_roots <- add_hydraulics(temp_roots, hydraulics)\n",
    "  krs <- hydraulics$krs # cm4 hPa-1 d-1\n",
    "  kcomp <- krs\n",
    "  \n",
    "  #############################\n",
    "  # # Calculate Kcomp\n",
    "  # Hsr <- soil$psi[which(soil$z %in% temp_roots$rz2 )]\n",
    "  # kcomp <- krs[1]\n",
    "  # if(length(unique(Hsr))> 1){\n",
    "  #   Hseq <- t(Hsr) %*% t(t(SUF))\n",
    "  #   kcomp = (Jr -  Q_dou*SUF) %*% ((Hsr-Hseq[1])*SUF)^(-1)\n",
    "  # }else{\n",
    "  #   Hseq <- unique(Hsr)\n",
    "  # }\n",
    "  # kcomp <- kcomp\n",
    "  ##############################\n",
    "  \n",
    "  Beta <- rep(0, 101)\n",
    "    RLDWU <- temp_roots%>% # gather information by layer\n",
    "    mutate(rz2 = round((z1/2+z2/2)/2)*2)%>%\n",
    "    dplyr::group_by(rz2)%>%\n",
    "    dplyr::summarise(suf = sum(suf1),\n",
    "                     ps = sum(psi),\n",
    "                     jr = sum(jr),\n",
    "                     jx = sum(jxl),\n",
    "                     su = sum(suf),\n",
    "                     jr_eq = sum(jr),\n",
    "                     jx_eq = sum(jxl))%>%\n",
    "    ungroup()\n",
    "  Beta[which(soil$z %in% RLDWU$rz2 )] <- rev(RLDWU$suf) # from above to below\n",
    "  SSF <- data.frame(suf = Beta, h = soil$psi)\n",
    "\n",
    "  # overwirte the profile boundary condition\n",
    "  write.profile.dat(project.path = \"./Day5\", SSF)\n",
    "  # message(\"profile.dat is correctly written\")\n",
    "\n",
    "\n",
    "  write.options.in(project.path = \"./Day5\", krs/75/15, kcomp/75/15)\n",
    "  # message(\"options.in is correctly written\")\n",
    "  \n",
    "  \n",
    "  atm_bc_data <- data.frame(tAtm = round(seq(1/24,1,1/24),4), Prec = rain$V1[round(tt)+65]/10, rSoil = 0, \n",
    "                            rRoot = data$V2[(2+tt*24+65*24):(1+(tt+1)*24+65*24)], hCritA = 15000, rB = 0, hB = 0, ht = 0, \n",
    "                            RootDepth = 0)\n",
    "  # overwrite the atmposheric boundary condition of hydrus.\n",
    "  write.atmosph.in(\"./Day5/\",\n",
    "                   maxAL = 24,\n",
    "                   deltaT = 1,\n",
    "                   atm_bc_data,\n",
    "                   hCritS = 15000,\n",
    "                   input.pet = F)\n",
    "  # message(\"atmosph.in is correctly written\")\n",
    "  \n",
    "  system(\"./H1D_calc.exe\")\n",
    "  \n",
    "  hydrus <- read.nod_inf(project.path = \"./Day5\", \n",
    "                         out.file = paste0(\"Nod_Inf.out\"))  \n",
    "  soil <- hydrus%>%\n",
    "    filter(Time == dt)%>%\n",
    "    transmute(id = Node,\n",
    "              z = Depth,\n",
    "              value = t,\n",
    "              psi = Head,\n",
    "              moisture = Moisture,\n",
    "              SSF = SSF$suf,\n",
    "              Sink = Sink, Flux = Flux)\n",
    "  SOIL <- rbind(SOIL, hydrus%>% \n",
    "                  mutate(SSF = rep(SSF$suf,25), krs = krs,id = Node, z = Depth, value = Time, psi = Head, moisture = Moisture)%>%\n",
    "                  filter(Time != 0)%>%\n",
    "                  mutate(Time = sort(rep(data$V1[(2+tt*24+65*24):(1+(tt+1)*24+65*24)],101))))\n",
    "  \n",
    "  out_data = read.tlevel.out(project.path = \"./Day5\", out.file = paste0(\"T_Level.out\"))%>%\n",
    "    mutate(Time = Time + tt+65)\n",
    "  \n",
    "  OUT <- rbind(OUT, out_data)\n",
    "  \n",
    "}"
   ]
  },
  {
   "cell_type": "code",
   "execution_count": null,
   "metadata": {
    "collapsed": true,
    "deletable": true,
    "editable": true
   },
   "outputs": [],
   "source": [
    "SOIL%>%\n",
    "  ggplot(aes(z, psi))+\n",
    "  geom_line(aes(colour = Time, group = factor(Time)), alpha = 0.1)+\n",
    "  coord_flip()+\n",
    "  viridis::scale_colour_viridis()+\n",
    "  xlim(-60,0)"
   ]
  },
  {
   "cell_type": "code",
   "execution_count": null,
   "metadata": {
    "collapsed": true,
    "deletable": true,
    "editable": true
   },
   "outputs": [],
   "source": [
    "SOIL%>%\n",
    "  ggplot(aes(z, SSF))+\n",
    "  geom_line(aes(colour = Time, group = factor(Time)), alpha = 0.1)+\n",
    "  coord_flip()+\n",
    "  viridis::scale_colour_viridis()+\n",
    "  xlim(-60,0)\n"
   ]
  },
  {
   "cell_type": "code",
   "execution_count": null,
   "metadata": {
    "collapsed": true,
    "deletable": true,
    "editable": true
   },
   "outputs": [],
   "source": [
    "rain$day = 1:nrow(rain)\n",
    "\n",
    "SoilFlux<- SOIL %>%\n",
    "  dplyr::group_by(Time)%>%\n",
    "  dplyr::summarise(Soil_Water_balance = -sum(Flux))%>%\n",
    "  ungroup()\n",
    "\n",
    "ggplot()+\n",
    "  geom_line(aes(Time, Soil_Water_balance), data = SoilFlux)+\n",
    "  geom_segment(aes(x = day, xend = day, y = 0,yend = V1/10), size = 3, alpha = 0.2, data = rain, colour = \"blue\")+\n",
    "  xlim(65,105)"
   ]
  },
  {
   "cell_type": "code",
   "execution_count": null,
   "metadata": {
    "collapsed": true,
    "deletable": true,
    "editable": true
   },
   "outputs": [],
   "source": [
    "OUT %>%\n",
    "  ggplot()+\n",
    "  geom_line(aes(Time, rRoot))+\n",
    "  geom_line(aes(Time, vRoot), colour = 'red')"
   ]
  }
 ],
 "metadata": {
  "kernelspec": {
   "display_name": "R",
   "language": "R",
   "name": "ir"
  },
  "language_info": {
   "codemirror_mode": "r",
   "file_extension": ".r",
   "mimetype": "text/x-r-source",
   "name": "R",
   "pygments_lexer": "r",
   "version": "4.1.3"
  }
 },
 "nbformat": 4,
 "nbformat_minor": 5
}
